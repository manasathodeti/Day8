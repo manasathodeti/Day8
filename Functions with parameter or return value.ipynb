{
 "cells": [
  {
   "cell_type": "code",
   "execution_count": null,
   "id": "1a809749-e8ac-47c6-b94a-e0161d78c9a0",
   "metadata": {},
   "outputs": [],
   "source": [
    "#functions with parameter/return value\n",
    "def add(student1,student2):\n",
    "    print(\"Total:\",student1+student2)\n",
    "student1=int(input(\"Enter the money:\"))\n",
    "student2=int(input(\"Enter the money:\"))\n",
    "add(student1,student2)"
   ]
  }
 ],
 "metadata": {
  "kernelspec": {
   "display_name": "Python 3 (ipykernel)",
   "language": "python",
   "name": "python3"
  },
  "language_info": {
   "codemirror_mode": {
    "name": "ipython",
    "version": 3
   },
   "file_extension": ".py",
   "mimetype": "text/x-python",
   "name": "python",
   "nbconvert_exporter": "python",
   "pygments_lexer": "ipython3",
   "version": "3.12.7"
  }
 },
 "nbformat": 4,
 "nbformat_minor": 5
}
