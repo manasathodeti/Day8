{
 "cells": [
  {
   "cell_type": "code",
   "execution_count": 1,
   "id": "b370cfc1-58af-4f74-b4ef-1cc496315a0d",
   "metadata": {},
   "outputs": [
    {
     "name": "stdin",
     "output_type": "stream",
     "text": [
      "Enter a: 34\n",
      "Enter b: 5\n",
      "Enter c: 6\n"
     ]
    },
    {
     "name": "stdout",
     "output_type": "stream",
     "text": [
      "Maximum: 34\n",
      "Minimum: 5\n"
     ]
    }
   ],
   "source": [
    "def max_min(a,b,c):\n",
    "    return max(a,b,c),min(a,b,c)\n",
    "a=int(input(\"Enter a:\"))\n",
    "b=int(input(\"Enter b:\"))\n",
    "c=int(input(\"Enter c:\"))\n",
    "maxi,mini=max_min(a,b,c)\n",
    "print(\"Maximum:\",maxi)\n",
    "print(\"Minimum:\",mini)"
   ]
  }
 ],
 "metadata": {
  "kernelspec": {
   "display_name": "Python 3 (ipykernel)",
   "language": "python",
   "name": "python3"
  },
  "language_info": {
   "codemirror_mode": {
    "name": "ipython",
    "version": 3
   },
   "file_extension": ".py",
   "mimetype": "text/x-python",
   "name": "python",
   "nbconvert_exporter": "python",
   "pygments_lexer": "ipython3",
   "version": "3.12.7"
  }
 },
 "nbformat": 4,
 "nbformat_minor": 5
}
