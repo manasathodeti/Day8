{
 "cells": [
  {
   "cell_type": "code",
   "execution_count": 1,
   "id": "14ec70ff-2db4-482f-bcf8-31fc1491ec31",
   "metadata": {},
   "outputs": [
    {
     "name": "stdin",
     "output_type": "stream",
     "text": [
      "Enter data: Manasa\n"
     ]
    },
    {
     "name": "stdout",
     "output_type": "stream",
     "text": [
      "Hello guest\n",
      "Hello Manasa\n"
     ]
    }
   ],
   "source": [
    "def hi(name='guest'):\n",
    "    print(\"Hello\",name)\n",
    "a=input(\"Enter data:\")\n",
    "hi()\n",
    "hi(a)"
   ]
  },
  {
   "cell_type": "code",
   "execution_count": null,
   "id": "e6a60dbe-b4b0-487c-8cae-95cc9def870e",
   "metadata": {},
   "outputs": [],
   "source": []
  }
 ],
 "metadata": {
  "kernelspec": {
   "display_name": "Python 3 (ipykernel)",
   "language": "python",
   "name": "python3"
  },
  "language_info": {
   "codemirror_mode": {
    "name": "ipython",
    "version": 3
   },
   "file_extension": ".py",
   "mimetype": "text/x-python",
   "name": "python",
   "nbconvert_exporter": "python",
   "pygments_lexer": "ipython3",
   "version": "3.12.7"
  }
 },
 "nbformat": 4,
 "nbformat_minor": 5
}
