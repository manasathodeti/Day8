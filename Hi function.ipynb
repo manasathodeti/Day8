{
 "cells": [
  {
   "cell_type": "code",
   "execution_count": 1,
   "id": "308ea1f1-e574-4413-b3b3-da14686e5e33",
   "metadata": {},
   "outputs": [
    {
     "name": "stdout",
     "output_type": "stream",
     "text": [
      "Hello Students\n",
      "Manasa Manasa Manasa Manasa Manasa Manasa \n"
     ]
    }
   ],
   "source": [
    "def hi():#call\n",
    "    print(\"Hello Students\")#response of call\n",
    "    print(\"Manasa \"*6)\n",
    "hi()#caller"
   ]
  },
  {
   "cell_type": "code",
   "execution_count": null,
   "id": "c651b813-6d03-4a15-9249-6b7566bbec16",
   "metadata": {},
   "outputs": [],
   "source": []
  }
 ],
 "metadata": {
  "kernelspec": {
   "display_name": "Python 3 (ipykernel)",
   "language": "python",
   "name": "python3"
  },
  "language_info": {
   "codemirror_mode": {
    "name": "ipython",
    "version": 3
   },
   "file_extension": ".py",
   "mimetype": "text/x-python",
   "name": "python",
   "nbconvert_exporter": "python",
   "pygments_lexer": "ipython3",
   "version": "3.12.7"
  }
 },
 "nbformat": 4,
 "nbformat_minor": 5
}
