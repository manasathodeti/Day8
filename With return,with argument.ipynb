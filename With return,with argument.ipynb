{
 "cells": [
  {
   "cell_type": "code",
   "execution_count": 1,
   "id": "bd77b597-56d7-4ea5-bce5-10994a3eee5f",
   "metadata": {},
   "outputs": [
    {
     "name": "stdin",
     "output_type": "stream",
     "text": [
      "Enter your name: Manasa\n"
     ]
    },
    {
     "name": "stdout",
     "output_type": "stream",
     "text": [
      "Welcome  Manasa\n"
     ]
    }
   ],
   "source": [
    "def get_name():\n",
    "    name=input(\"Enter your name:\")\n",
    "    return name\n",
    "username=get_name()\n",
    "print(\"Welcome \",username)"
   ]
  },
  {
   "cell_type": "code",
   "execution_count": null,
   "id": "da1fae68-f4c8-4bc3-aee8-a9adfe39d39f",
   "metadata": {},
   "outputs": [],
   "source": []
  }
 ],
 "metadata": {
  "kernelspec": {
   "display_name": "Python 3 (ipykernel)",
   "language": "python",
   "name": "python3"
  },
  "language_info": {
   "codemirror_mode": {
    "name": "ipython",
    "version": 3
   },
   "file_extension": ".py",
   "mimetype": "text/x-python",
   "name": "python",
   "nbconvert_exporter": "python",
   "pygments_lexer": "ipython3",
   "version": "3.12.7"
  }
 },
 "nbformat": 4,
 "nbformat_minor": 5
}
