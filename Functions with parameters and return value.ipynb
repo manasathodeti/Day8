{
 "cells": [
  {
   "cell_type": "code",
   "execution_count": null,
   "id": "fdb41b0f-a9e6-4785-8e68-1c11098c96b2",
   "metadata": {},
   "outputs": [],
   "source": [
    "#functions with parameters & return value\n",
    "def add(student1,student2):\n",
    "    return student1+student2\n",
    "student1=int(input(\"Enter the money:\"))\n",
    "student2=int(input(\"Enter the money:\"))\n",
    "total=add(student1,student2)\n",
    "print(\"Total amount:\",total)"
   ]
  }
 ],
 "metadata": {
  "kernelspec": {
   "display_name": "Python 3 (ipykernel)",
   "language": "python",
   "name": "python3"
  },
  "language_info": {
   "codemirror_mode": {
    "name": "ipython",
    "version": 3
   },
   "file_extension": ".py",
   "mimetype": "text/x-python",
   "name": "python",
   "nbconvert_exporter": "python",
   "pygments_lexer": "ipython3",
   "version": "3.12.7"
  }
 },
 "nbformat": 4,
 "nbformat_minor": 5
}
